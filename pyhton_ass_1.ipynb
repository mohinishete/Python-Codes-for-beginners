{
  "nbformat": 4,
  "nbformat_minor": 0,
  "metadata": {
    "colab": {
      "name": "pyhton ass 1.ipynb",
      "provenance": []
    },
    "kernelspec": {
      "name": "python3",
      "display_name": "Python 3"
    },
    "language_info": {
      "name": "python"
    }
  },
  "cells": [
    {
      "cell_type": "code",
      "execution_count": null,
      "metadata": {
        "colab": {
          "base_uri": "https://localhost:8080/",
          "height": 112
        },
        "id": "x5yiBI9QBvDT",
        "outputId": "cefc95bf-8bbc-4f90-8497-57a6f3d8f0fa"
      },
      "outputs": [
        {
          "output_type": "execute_result",
          "data": {
            "text/plain": [
              "   id  Value\n",
              "0   1  a,b,b\n",
              "1   2  c,d,g"
            ],
            "text/html": [
              "\n",
              "  <div id=\"df-c7c3cbd0-b266-43b3-b39a-f40d533a5c3f\">\n",
              "    <div class=\"colab-df-container\">\n",
              "      <div>\n",
              "<style scoped>\n",
              "    .dataframe tbody tr th:only-of-type {\n",
              "        vertical-align: middle;\n",
              "    }\n",
              "\n",
              "    .dataframe tbody tr th {\n",
              "        vertical-align: top;\n",
              "    }\n",
              "\n",
              "    .dataframe thead th {\n",
              "        text-align: right;\n",
              "    }\n",
              "</style>\n",
              "<table border=\"1\" class=\"dataframe\">\n",
              "  <thead>\n",
              "    <tr style=\"text-align: right;\">\n",
              "      <th></th>\n",
              "      <th>id</th>\n",
              "      <th>Value</th>\n",
              "    </tr>\n",
              "  </thead>\n",
              "  <tbody>\n",
              "    <tr>\n",
              "      <th>0</th>\n",
              "      <td>1</td>\n",
              "      <td>a,b,b</td>\n",
              "    </tr>\n",
              "    <tr>\n",
              "      <th>1</th>\n",
              "      <td>2</td>\n",
              "      <td>c,d,g</td>\n",
              "    </tr>\n",
              "  </tbody>\n",
              "</table>\n",
              "</div>\n",
              "      <button class=\"colab-df-convert\" onclick=\"convertToInteractive('df-c7c3cbd0-b266-43b3-b39a-f40d533a5c3f')\"\n",
              "              title=\"Convert this dataframe to an interactive table.\"\n",
              "              style=\"display:none;\">\n",
              "        \n",
              "  <svg xmlns=\"http://www.w3.org/2000/svg\" height=\"24px\"viewBox=\"0 0 24 24\"\n",
              "       width=\"24px\">\n",
              "    <path d=\"M0 0h24v24H0V0z\" fill=\"none\"/>\n",
              "    <path d=\"M18.56 5.44l.94 2.06.94-2.06 2.06-.94-2.06-.94-.94-2.06-.94 2.06-2.06.94zm-11 1L8.5 8.5l.94-2.06 2.06-.94-2.06-.94L8.5 2.5l-.94 2.06-2.06.94zm10 10l.94 2.06.94-2.06 2.06-.94-2.06-.94-.94-2.06-.94 2.06-2.06.94z\"/><path d=\"M17.41 7.96l-1.37-1.37c-.4-.4-.92-.59-1.43-.59-.52 0-1.04.2-1.43.59L10.3 9.45l-7.72 7.72c-.78.78-.78 2.05 0 2.83L4 21.41c.39.39.9.59 1.41.59.51 0 1.02-.2 1.41-.59l7.78-7.78 2.81-2.81c.8-.78.8-2.07 0-2.86zM5.41 20L4 18.59l7.72-7.72 1.47 1.35L5.41 20z\"/>\n",
              "  </svg>\n",
              "      </button>\n",
              "      \n",
              "  <style>\n",
              "    .colab-df-container {\n",
              "      display:flex;\n",
              "      flex-wrap:wrap;\n",
              "      gap: 12px;\n",
              "    }\n",
              "\n",
              "    .colab-df-convert {\n",
              "      background-color: #E8F0FE;\n",
              "      border: none;\n",
              "      border-radius: 50%;\n",
              "      cursor: pointer;\n",
              "      display: none;\n",
              "      fill: #1967D2;\n",
              "      height: 32px;\n",
              "      padding: 0 0 0 0;\n",
              "      width: 32px;\n",
              "    }\n",
              "\n",
              "    .colab-df-convert:hover {\n",
              "      background-color: #E2EBFA;\n",
              "      box-shadow: 0px 1px 2px rgba(60, 64, 67, 0.3), 0px 1px 3px 1px rgba(60, 64, 67, 0.15);\n",
              "      fill: #174EA6;\n",
              "    }\n",
              "\n",
              "    [theme=dark] .colab-df-convert {\n",
              "      background-color: #3B4455;\n",
              "      fill: #D2E3FC;\n",
              "    }\n",
              "\n",
              "    [theme=dark] .colab-df-convert:hover {\n",
              "      background-color: #434B5C;\n",
              "      box-shadow: 0px 1px 3px 1px rgba(0, 0, 0, 0.15);\n",
              "      filter: drop-shadow(0px 1px 2px rgba(0, 0, 0, 0.3));\n",
              "      fill: #FFFFFF;\n",
              "    }\n",
              "  </style>\n",
              "\n",
              "      <script>\n",
              "        const buttonEl =\n",
              "          document.querySelector('#df-c7c3cbd0-b266-43b3-b39a-f40d533a5c3f button.colab-df-convert');\n",
              "        buttonEl.style.display =\n",
              "          google.colab.kernel.accessAllowed ? 'block' : 'none';\n",
              "\n",
              "        async function convertToInteractive(key) {\n",
              "          const element = document.querySelector('#df-c7c3cbd0-b266-43b3-b39a-f40d533a5c3f');\n",
              "          const dataTable =\n",
              "            await google.colab.kernel.invokeFunction('convertToInteractive',\n",
              "                                                     [key], {});\n",
              "          if (!dataTable) return;\n",
              "\n",
              "          const docLinkHtml = 'Like what you see? Visit the ' +\n",
              "            '<a target=\"_blank\" href=https://colab.research.google.com/notebooks/data_table.ipynb>data table notebook</a>'\n",
              "            + ' to learn more about interactive tables.';\n",
              "          element.innerHTML = '';\n",
              "          dataTable['output_type'] = 'display_data';\n",
              "          await google.colab.output.renderOutput(dataTable, element);\n",
              "          const docLink = document.createElement('div');\n",
              "          docLink.innerHTML = docLinkHtml;\n",
              "          element.appendChild(docLink);\n",
              "        }\n",
              "      </script>\n",
              "    </div>\n",
              "  </div>\n",
              "  "
            ]
          },
          "metadata": {},
          "execution_count": 1
        }
      ],
      "source": [
        "# TASK 1_5\n",
        "import pandas as pd\n",
        "data = [[1,'a'],[1,'b'],[1,'b'],[2,'c'],[2,'d'],[2,'g']]\n",
        "df = pd.DataFrame(data, columns=['id', 'Value'])\n",
        "df\n",
        "df.groupby('id', as_index=False).agg(','.join)\n"
      ]
    },
    {
      "cell_type": "code",
      "source": [
        "# TASK 1_2\n",
        "def squarsum(n):\n",
        "  sum=0\n",
        "  i=1\n",
        "  while(i<=n):\n",
        "    sum=sum+(i*i)\n",
        "    i+=1\n",
        "  return(sum)\n",
        "\n",
        "n=int(input('\\n Enter number N \\n'))\n",
        "print(squarsum(n))\n"
      ],
      "metadata": {
        "colab": {
          "base_uri": "https://localhost:8080/"
        },
        "id": "Gu4u5N6L0F9R",
        "outputId": "bc3a545e-b82d-4bce-8d4d-d656ae208f53"
      },
      "execution_count": null,
      "outputs": [
        {
          "output_type": "stream",
          "name": "stdout",
          "text": [
            "\n",
            " Enter number N \n",
            "4\n",
            "30\n"
          ]
        }
      ]
    },
    {
      "cell_type": "code",
      "source": [
        "# TASK 1_6\n",
        "def stopwrd(str2):\n",
        "  stop=['it','the','all','is','.',',','this']\n",
        "  cnt=0\n",
        "  for i in str2.split():\n",
        "    if i not in stop:\n",
        "      cnt=cnt+1\n",
        "  print(cnt)\n",
        "\n",
        "str1=input('\\n Enter Input sentences: \\n')\n",
        "str2=str1.lower()\n",
        "stopwrd(str2)\n"
      ],
      "metadata": {
        "colab": {
          "base_uri": "https://localhost:8080/"
        },
        "id": "PT2J9yws1nLh",
        "outputId": "d75da6f9-86ed-436f-db32-f9e7cc563f57"
      },
      "execution_count": null,
      "outputs": [
        {
          "output_type": "stream",
          "name": "stdout",
          "text": [
            "\n",
            " Enter Input sentences: \n",
            "The Matrix is everywhere. It is all around us. Even now, in this very room.\n",
            "9\n"
          ]
        }
      ]
    },
    {
      "cell_type": "code",
      "source": [
        "# TASK 1_7\n",
        "\n",
        "import pandas as pd\n",
        "import numpy as np\n",
        "\n",
        "def convert_my_string(my_string, my_k):\n",
        "\n",
        "   for index in range(len(my_string)):\n",
        "      if index % my_k == 0:\n",
        "         sub = my_string[index:index+my_k]\n",
        "         my_list = []\n",
        "         for j in sub:\n",
        "            my_list.append(j)\n",
        "         print(' '.join(my_list))\n",
        "   b=np.array(my_list)\n",
        "   c=np.unique(b,axis=0)\n",
        "   if (len(c[ :0])==len(c[ :1])==len(c[ :2])==my_k):\n",
        "        print(\"Good\")\n",
        "   else:\n",
        "        print(\"Bad\")\n",
        "    \n",
        "\n",
        "my_string=input('\\nEnter Input 9 digits\\n')\n",
        "k=3\n",
        "convert_my_string(my_string,k)\n"
      ],
      "metadata": {
        "colab": {
          "base_uri": "https://localhost:8080/"
        },
        "id": "jV4FzEaY8csl",
        "outputId": "7a95cea5-b56e-473b-e031-c7bd6c5486d1"
      },
      "execution_count": null,
      "outputs": [
        {
          "output_type": "stream",
          "name": "stdout",
          "text": [
            "\n",
            "Enter Input 9 digits\n",
            "123145789\n",
            "1 2 3\n",
            "1 4 5\n",
            "7 8 9\n",
            "Bad\n"
          ]
        }
      ]
    },
    {
      "cell_type": "code",
      "source": [
        "import numpy as np\n",
        "b = np.array([[1, 2, 0], [1, 1, 7], [2, 8, 4]])\n",
        "print(b)\n",
        "c=np.unique(b,axis=0)\n",
        "print(len(c))"
      ],
      "metadata": {
        "colab": {
          "base_uri": "https://localhost:8080/"
        },
        "id": "MK2j9yVua6H3",
        "outputId": "eba1ea2b-20f5-456b-da30-898e008e7102"
      },
      "execution_count": null,
      "outputs": [
        {
          "output_type": "stream",
          "name": "stdout",
          "text": [
            "[[1 2 0]\n",
            " [1 1 7]\n",
            " [2 8 4]]\n",
            "3\n"
          ]
        }
      ]
    },
    {
      "cell_type": "code",
      "source": [
        "#TASK 1_4\n",
        "import pandas as pd\n",
        "import numpy as np\n",
        "def lag (datafr,lagv,col,dropna=True):\n",
        "    datafr['c_lag1']=datafr[col].shift(lagv)\n",
        "    print(datafr)\n",
        "\n",
        "\n",
        "data = {'a':[2, 3, 4],\n",
        "        'b':[5, 6, 7],\n",
        "        'c':[10,9,8]}\n",
        "datafr=pd.DataFrame(data)\n",
        "lag(datafr,lagv=1,col='a')\n"
      ],
      "metadata": {
        "id": "0PAyI1A-btEe",
        "colab": {
          "base_uri": "https://localhost:8080/"
        },
        "outputId": "46e6cfce-c5cd-425c-8d4f-7ab82e9f0a7b"
      },
      "execution_count": null,
      "outputs": [
        {
          "output_type": "stream",
          "name": "stdout",
          "text": [
            "   a  b   c  c_lag1\n",
            "0  2  5  10     NaN\n",
            "1  3  6   9     2.0\n",
            "2  4  7   8     3.0\n"
          ]
        }
      ]
    },
    {
      "cell_type": "code",
      "source": [
        "  # TASK 1_3\n",
        "#str1=input(\"\\nEnter input String\\n\")\n",
        "def wovel (str1):\n",
        "    wovles=('a','e','i','o','u')\n",
        "    cnt=0\n",
        "    for i in str1.lower():\n",
        "      if i in wovles:\n",
        "          cnt+=1        \n",
        "    print(cnt)\n",
        "\n",
        "str1=input(\"\\nEnter input String\\n\")\n",
        "wovel(str1)"
      ],
      "metadata": {
        "colab": {
          "base_uri": "https://localhost:8080/"
        },
        "id": "MYDkPGdRB6Gt",
        "outputId": "5a83c0e8-ecf4-499b-dfb1-24ce853e7265"
      },
      "execution_count": null,
      "outputs": [
        {
          "output_type": "stream",
          "name": "stdout",
          "text": [
            "\n",
            "Enter input String\n",
            "mohini\n",
            "3\n"
          ]
        }
      ]
    }
  ]
}