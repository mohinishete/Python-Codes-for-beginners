{
  "nbformat": 4,
  "nbformat_minor": 0,
  "metadata": {
    "colab": {
      "name": "Excercise 9.ipynb",
      "provenance": []
    },
    "kernelspec": {
      "name": "python3",
      "display_name": "Python 3"
    },
    "language_info": {
      "name": "python"
    }
  },
  "cells": [
    {
      "cell_type": "code",
      "execution_count": null,
      "metadata": {
        "id": "mU7REkY5Zzyi"
      },
      "outputs": [],
      "source": [
        "\"\"\"\n",
        "Write a function which takes input an english sentence of any length , and a set containing\n",
        "some stop words. Function then removes all stop words from the sentence and returns a\n",
        "dictionary where keys are all unique words in the sentence and values are their count in the\n",
        "sentence .\n",
        "\"\"\""
      ]
    },
    {
      "cell_type": "code",
      "source": [
        "from typing import ContextManager\n",
        "ip=input(' enter input string')\n",
        "sw=set(['we','all','shall','or'])\n",
        "\n",
        "ip1=ip.split()\n",
        "\n",
        "for i in sw:\n",
        "  for j in range(len(ip1)-1):\n",
        "    if ip1[j]==i:\n",
        "      ip1.pop(j)  \n",
        "print(ip1)\n",
        "\n",
        "count=[]\n",
        "for i in range(len(ip1)):\n",
        "  cnt=0\n",
        "  for j in range(len(ip1)):\n",
        "    if (ip1[i]==(ip1[j])):\n",
        "      cnt+=1\n",
        "  count.append(cnt)\n",
        "\n",
        "dict_op={}\n",
        "for i in range (len(ip1)):\n",
        "    dict_op[ip1[i]]=count[i]\n",
        "print(dict_op)\n"
      ],
      "metadata": {
        "colab": {
          "base_uri": "https://localhost:8080/"
        },
        "id": "OS-hUmHIZ3Lu",
        "outputId": "72f57f58-d95a-4f63-fbf2-4a4f32eb864d"
      },
      "execution_count": null,
      "outputs": [
        {
          "output_type": "stream",
          "name": "stdout",
          "text": [
            " enter input stringwe shall remove our shoes in temple in day time in time\n",
            "['remove', 'our', 'shoes', 'in', 'temple', 'in', 'day', 'time', 'in', 'time']\n",
            "{'remove': 1, 'our': 1, 'shoes': 1, 'in': 3, 'temple': 1, 'day': 1, 'time': 2}\n"
          ]
        }
      ]
    }
  ]
}