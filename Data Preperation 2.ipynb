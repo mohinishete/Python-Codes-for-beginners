{
  "nbformat": 4,
  "nbformat_minor": 0,
  "metadata": {
    "colab": {
      "name": "DP2.ipynb",
      "provenance": []
    },
    "kernelspec": {
      "name": "python3",
      "display_name": "Python 3"
    },
    "language_info": {
      "name": "python"
    }
  },
  "cells": [
    {
      "cell_type": "code",
      "execution_count": null,
      "metadata": {
        "id": "2suSrF-6zvFm"
      },
      "outputs": [],
      "source": [
        "#Write code to find average sales across months . Write code to find which category had minimum\n",
        "#sales for the second quarter ."
      ]
    },
    {
      "cell_type": "code",
      "source": [
        "import pandas as pd\n",
        "import numpy as np\n",
        "from datetime import date\n",
        "\n",
        "d1=pd.to_datetime('23-1-2020').toordinal()\n",
        "d2=pd.to_datetime('23-12-2020').toordinal()\n",
        "\n",
        "df=pd.DataFrame({\n",
        " 'date':[date.fromordinal(np.random.randint(d1, d2)) for i in range(100)],\n",
        " 'sales':np.random.randint(100,500,100),\n",
        "\n",
        "'category':np.random.choice(['Apparels','Cosmetics','Toys','Consumables'],100)\n",
        "})\n",
        "\n",
        "\n",
        "#to find average sales across months\n",
        "df.date=pd.to_datetime(df.date)\n",
        "df['month']=df['date'].dt.month # to access months in date column\n",
        "\n",
        "\n",
        "df.groupby(['month'])['sales'].mean()# monthwise average sales \n",
        "\n",
        "df['quarter']=df['date'].dt.quarter\n",
        "print(df)\n",
        "a=df[df['quarter']==2].groupby(['category'])['sales'].sum()\n",
        "\n",
        "print(a.index[a==min(a)])\n"
      ],
      "metadata": {
        "colab": {
          "base_uri": "https://localhost:8080/"
        },
        "id": "LrL7aIxSzz1l",
        "outputId": "cf4407f0-c996-42d9-fffb-b9ed6e331aad"
      },
      "execution_count": null,
      "outputs": [
        {
          "output_type": "stream",
          "name": "stdout",
          "text": [
            "         date  sales     category  month  quarter\n",
            "0  2020-08-16    231         Toys      8        3\n",
            "1  2020-05-19    479  Consumables      5        2\n",
            "2  2020-11-23    351    Cosmetics     11        4\n",
            "3  2020-02-13    157    Cosmetics      2        1\n",
            "4  2020-12-22    233     Apparels     12        4\n",
            "..        ...    ...          ...    ...      ...\n",
            "95 2020-07-30    181    Cosmetics      7        3\n",
            "96 2020-08-01    227    Cosmetics      8        3\n",
            "97 2020-12-10    494     Apparels     12        4\n",
            "98 2020-11-03    346     Apparels     11        4\n",
            "99 2020-10-18    103    Cosmetics     10        4\n",
            "\n",
            "[100 rows x 5 columns]\n",
            "Index(['Consumables'], dtype='object', name='category')\n"
          ]
        }
      ]
    }
  ]
}