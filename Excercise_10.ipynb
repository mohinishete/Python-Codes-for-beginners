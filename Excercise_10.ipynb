{
  "nbformat": 4,
  "nbformat_minor": 0,
  "metadata": {
    "colab": {
      "name": "Excercise 10.ipynb",
      "provenance": []
    },
    "kernelspec": {
      "name": "python3",
      "display_name": "Python 3"
    },
    "language_info": {
      "name": "python"
    }
  },
  "cells": [
    {
      "cell_type": "code",
      "execution_count": null,
      "metadata": {
        "id": "O4FWakR_LMTa"
      },
      "outputs": [],
      "source": [
        "\"\"\"\n",
        "consider this list of addresses\n",
        "['H-73, MDT, Powai , Mumbai' , '1604, SS, Hyderabad' ,'B block 73, Adyar, Chennai']\n",
        "Extract cities from each address, use list comprehension .\n",
        "\"\"\""
      ]
    },
    {
      "cell_type": "code",
      "source": [
        "import numpy as np\n",
        "addr=['H-73, MDT, Powai , Mumbai' , '1604, SS, Hyderabad' ,'B block 73, Adyar, Chennai']\n",
        "lst=[]\n",
        "for i in addr:\n",
        "  lst.append(i.split())\n",
        "print(lst)\n",
        "city=[]\n",
        "\n",
        "for i in lst:\n",
        "  city.append((i[-1]))\n",
        "  \n",
        "print(city)\n",
        "  "
      ],
      "metadata": {
        "colab": {
          "base_uri": "https://localhost:8080/"
        },
        "id": "9WFKV3KyLhes",
        "outputId": "09f03687-bbef-4dbe-d338-81c6ad4bcf23"
      },
      "execution_count": null,
      "outputs": [
        {
          "output_type": "stream",
          "name": "stdout",
          "text": [
            "[['H-73,', 'MDT,', 'Powai', ',', 'Mumbai'], ['1604,', 'SS,', 'Hyderabad'], ['B', 'block', '73,', 'Adyar,', 'Chennai']]\n",
            "['Mumbai', 'Hyderabad', 'Chennai']\n"
          ]
        }
      ]
    }
  ]
}