{
  "nbformat": 4,
  "nbformat_minor": 0,
  "metadata": {
    "colab": {
      "name": "Excersice 6.ipynb",
      "provenance": []
    },
    "kernelspec": {
      "name": "python3",
      "display_name": "Python 3"
    },
    "language_info": {
      "name": "python"
    }
  },
  "cells": [
    {
      "cell_type": "code",
      "execution_count": null,
      "metadata": {
        "id": "bs5LRMuKw0xb"
      },
      "outputs": [],
      "source": [
        "#magine a circle and two squares: a smaller and a bigger one. For the smaller one, the circle\n",
        "#is a circumcircle and for the bigger one, an incircle. Create a function, that takes an integer (radius of the circle) and returns the difference of the\n",
        "#areas of the two squares."
      ]
    },
    {
      "cell_type": "code",
      "source": [
        "\n",
        "\n",
        "def area1(r):\n",
        "  r=int(input( 'enter radius of circle'))\n",
        "  sq2=(2*r*r)\n",
        "#print(sq1)\n",
        "  sq1=(2*sq2)\n",
        "  ans=sq1-sq2\n",
        "  return(print('the difference of the areas of the two squares: ',ans))\n",
        "\n",
        "area1 (3)\n"
      ],
      "metadata": {
        "colab": {
          "base_uri": "https://localhost:8080/"
        },
        "id": "-whuuZn7zJG0",
        "outputId": "2f4c3db8-a400-4a57-fe39-d6a1ac572e82"
      },
      "execution_count": null,
      "outputs": [
        {
          "output_type": "stream",
          "name": "stdout",
          "text": [
            "enter radius of circle3\n",
            "the difference of the areas of the two squares:  18\n"
          ]
        }
      ]
    }
  ]
}