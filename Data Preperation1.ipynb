{
  "nbformat": 4,
  "nbformat_minor": 0,
  "metadata": {
    "colab": {
      "name": "DP1.ipynb",
      "provenance": []
    },
    "kernelspec": {
      "name": "python3",
      "display_name": "Python 3"
    },
    "language_info": {
      "name": "python"
    }
  },
  "cells": [
    {
      "cell_type": "code",
      "execution_count": null,
      "metadata": {
        "id": "djqspaHeH47c"
      },
      "outputs": [],
      "source": [
        "#Write the code to find id corresponding to maximum absolute difference between x and y .\n",
        "#Then write code to find how many observations have strictly lower value of x , than the value of x\n",
        "#corresponding to that id."
      ]
    },
    {
      "cell_type": "code",
      "source": [
        "from operator import countOf\n",
        "# creating data frame\n",
        "import pandas as pd\n",
        "import numpy as np\n",
        "d=pd.DataFrame({'id':np.random.choice(range(1,100),30,replace=False),'x':np.random.randint(1,100,30),'y':np.random.randint(1,100,30)})\n",
        "\n",
        "\n",
        "d['Abs_diff']=(abs(d.x-d.y))\n",
        "print('original Dataframe is:',d)\n",
        "\n",
        "max_id=d['id'][(abs(d['x']-d['y'])).idxmax()]\n",
        "print('id of max absolute difference is:',max_id)\n",
        "\n",
        "x_value=int(d['x'][d['id']==max_id])\n",
        "#print(x_value)\n",
        "\n",
        "print('Count of x values < than x_value is:',(d['x']< x_value).sum())\n"
      ],
      "metadata": {
        "colab": {
          "base_uri": "https://localhost:8080/"
        },
        "id": "2AqxmMQJIAaD",
        "outputId": "536cf795-71d0-4f43-f188-12254c7550e6"
      },
      "execution_count": null,
      "outputs": [
        {
          "output_type": "stream",
          "name": "stdout",
          "text": [
            "original Dataframe is:     id   x   y  Abs_diff\n",
            "0   92  10  59        49\n",
            "1   78   3  12         9\n",
            "2   36  86  10        76\n",
            "3    4   7   6         1\n",
            "4   91  50  44         6\n",
            "5    9  37  14        23\n",
            "6   66  76  91        15\n",
            "7   15  24  24         0\n",
            "8   26  30  48        18\n",
            "9    5  88  28        60\n",
            "10  82  34  59        25\n",
            "11  16  46  85        39\n",
            "12  11  84  11        73\n",
            "13  50  15  47        32\n",
            "14  76  40  11        29\n",
            "15  70  19  20         1\n",
            "16   8  97  93         4\n",
            "17  87  81  26        55\n",
            "18  95  19  91        72\n",
            "19  57  13  20         7\n",
            "20  93   8  98        90\n",
            "21  88  81  86         5\n",
            "22  21  11  42        31\n",
            "23  58  26   9        17\n",
            "24  28  55  73        18\n",
            "25  89  48  25        23\n",
            "26  80  19  74        55\n",
            "27  20  50  23        27\n",
            "28  39  97  65        32\n",
            "29  19  31  26         5\n",
            "id of max absolute difference 93\n",
            "Count of x values < than x_value 2\n"
          ]
        }
      ]
    }
  ]
}