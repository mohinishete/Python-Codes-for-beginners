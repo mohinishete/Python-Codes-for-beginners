{
  "nbformat": 4,
  "nbformat_minor": 0,
  "metadata": {
    "colab": {
      "name": "Excercise 8.ipynb",
      "provenance": []
    },
    "kernelspec": {
      "name": "python3",
      "display_name": "Python 3"
    },
    "language_info": {
      "name": "python"
    }
  },
  "cells": [
    {
      "cell_type": "code",
      "execution_count": null,
      "metadata": {
        "id": "MPP6pU6flfAw"
      },
      "outputs": [],
      "source": [
        "#Write a function which takes an integer n as input and returns sum of all even numbers in\n",
        "#the first n terms of a fibonacci series ."
      ]
    },
    {
      "cell_type": "code",
      "source": [
        "in1=input('Enter input number')\n",
        "n=int(in1)\n",
        "fab=[1,1]\n",
        "for i in range(0,n-2):\n",
        "  fab.append((fab[i]+fab[i+1]))\n",
        "print(fab)\n",
        "\n",
        "sum=0\n",
        "for i in fab:\n",
        "  if i%2==0:\n",
        "    sum+=i\n",
        "  \n",
        "print(sum)\n"
      ],
      "metadata": {
        "colab": {
          "base_uri": "https://localhost:8080/"
        },
        "id": "0Rfk6WHKl6TR",
        "outputId": "a630c114-72e1-47ba-df34-ace7bef20918"
      },
      "execution_count": null,
      "outputs": [
        {
          "output_type": "stream",
          "name": "stdout",
          "text": [
            "Enter input number9\n",
            "[1, 1, 2, 3, 5, 8, 13, 21, 34]\n",
            "44\n"
          ]
        }
      ]
    }
  ]
}