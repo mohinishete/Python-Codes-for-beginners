{
  "nbformat": 4,
  "nbformat_minor": 0,
  "metadata": {
    "colab": {
      "name": "python ass 2.ipynb",
      "provenance": []
    },
    "kernelspec": {
      "name": "python3",
      "display_name": "Python 3"
    },
    "language_info": {
      "name": "python"
    }
  },
  "cells": [
    {
      "cell_type": "code",
      "execution_count": null,
      "metadata": {
        "colab": {
          "base_uri": "https://localhost:8080/"
        },
        "id": "-HhefTpHzOmG",
        "outputId": "e829b495-8fb3-4537-a71b-6b234976d5ab"
      },
      "outputs": [
        {
          "output_type": "stream",
          "name": "stdout",
          "text": [
            "    id   x   y  Abs_diff\n",
            "0   97  93  99         6\n",
            "1   85  65  54        11\n",
            "2   62  26  18         8\n",
            "3   79   5  68        63\n",
            "4   56  35  10        25\n",
            "5   15  30  29         1\n",
            "6   98  89  85         4\n",
            "7   26  42  84        42\n",
            "8   37  43  46         3\n",
            "9   71   5  47        42\n",
            "10   2  32  86        54\n",
            "11  35  91  17        74\n",
            "12  36  51  64        13\n",
            "13  32  82  38        44\n",
            "14  28  31   5        26\n",
            "15  76  39   4        35\n",
            "16  50  48  76        28\n",
            "17   9  50  65        15\n",
            "18  30   4  41        37\n",
            "19   5  45  87        42\n",
            "20  20  83  90         7\n",
            "21  93  80  15        65\n",
            "22  49  39  46         7\n",
            "23  73  34  89        55\n",
            "24  81  19  57        38\n",
            "25  43  33  93        60\n",
            "26   1  90  61        29\n",
            "27  41  78  46        32\n",
            "28   7  34  99        65\n",
            "29  82  53  72        19\n",
            "Count of x values < than x_value is: 28\n"
          ]
        }
      ],
      "source": [
        "# TASK 2_1\n",
        "import pandas as pd\n",
        "import numpy as np\n",
        "d=pd.DataFrame({'id':np.random.choice(range(1,100),30,replace=False),'x':np.random.randint(1,100,30),\n",
        "'y':np.random.randint(1,100,30)})\n",
        "d['Abs_diff']=(abs(d.x-d.y))\n",
        "print(d)\n",
        "max_id=d['id'][(abs(d['x']-d['y'])).idxmax()]\n",
        "x_value=int(d['x'][d['id']==max_id])\n",
        "print('Count of x values < than x_value is:',(d['x']< x_value).sum())"
      ]
    },
    {
      "cell_type": "code",
      "source": [
        "#TASK 2_2 Use dictionary comprehension to create a dictionary with keys : t1,t2,t3.......t100\n",
        "#which takes random integers from the range [1,100] as their corresponding values. Write a\n",
        "#function which takes this dictionary as input and returns number of unique values from all\n",
        "#ey:value pairs in that dictionary \n",
        "\n",
        "import pandas as pd\n",
        "import random\n",
        "\n",
        "keys=[]\n",
        "for i in range(1,101):\n",
        "  keys.append(\"t\"+str(i))\n",
        "values=[]\n",
        "for i in range(1,101):\n",
        "  values.append(random.randint(1,100))\n",
        "dict1={}\n",
        "for i in range(100):\n",
        "  dict1[keys[i]]=values[i]\n",
        "l=[(dict1)]\n",
        "u_val=set(val for dic in l for val in dic.values())\n",
        "print(len(u_val))\n"
      ],
      "metadata": {
        "id": "iOCPM7cJI6LK",
        "colab": {
          "base_uri": "https://localhost:8080/"
        },
        "outputId": "8e4f8108-6946-45a0-df16-20d4632d446d"
      },
      "execution_count": null,
      "outputs": [
        {
          "output_type": "stream",
          "name": "stdout",
          "text": [
            "61\n"
          ]
        }
      ]
    },
    {
      "cell_type": "code",
      "source": [
        "#TASK 2_5 A number is said to be Harshad if it's exactly divisible by the sum of its digits. Create a\n",
        "#function that determines whether a number is a Harshad or not. Input to the function will be\n",
        "#an integer\n",
        "\n",
        "def check (n):\n",
        "  sum1=0\n",
        "  lst=[int(d) for d in str(n)]\n",
        "  for i in lst:\n",
        "    sum1=sum1+i\n",
        "  print(sum1)\n",
        "  if (int(n)%sum1==0):\n",
        "    print(\"number is Harshad\")\n",
        "  else:\n",
        "    print('number is not harshad')\n",
        "\n",
        "\n",
        "n=input('\\nEnter input number\\n:')\n",
        "check(n)"
      ],
      "metadata": {
        "colab": {
          "base_uri": "https://localhost:8080/"
        },
        "id": "jOVPDYtzm6n9",
        "outputId": "ca3d5890-5a96-4520-90a5-31dd74fe37e0"
      },
      "execution_count": null,
      "outputs": [
        {
          "output_type": "stream",
          "name": "stdout",
          "text": [
            "\n",
            "Enter input number\n",
            ":100\n",
            "1\n",
            "number is Harshad\n"
          ]
        }
      ]
    },
    {
      "cell_type": "code",
      "source": [
        "#TASK 2_6 Write a function which takes an integer n as input and returns sum of all even numbers in the\n",
        "#first n terms of a fibonacci series\n",
        "\n",
        "\n",
        "def fab (n):\n",
        "  f=[0,1]\n",
        "  for i in range (2,n):\n",
        "    f.append(f[i-1]+f[i-2])\n",
        "  print('fab series of first n elements: ',f)\n",
        "  lst=[]\n",
        "  for i in f:\n",
        "    if (i%2==0):\n",
        "      lst.append(i)\n",
        "  print('Even numbers in first n elements of Fab series: ',lst)\n",
        "\n",
        "n=input('Enter input number\\n:')\n",
        "fab(int(n))"
      ],
      "metadata": {
        "colab": {
          "base_uri": "https://localhost:8080/"
        },
        "id": "40eUdk0NCp8X",
        "outputId": "5a8dfa0d-667a-467c-a60a-29782eae9db7"
      },
      "execution_count": null,
      "outputs": [
        {
          "output_type": "stream",
          "name": "stdout",
          "text": [
            "Enter input number\n",
            ":7\n",
            "fab series of first n elements:  [0, 1, 1, 2, 3, 5, 8]\n",
            "Even numbers in first n elements of Fab series:  [0, 2, 8]\n"
          ]
        }
      ]
    },
    {
      "cell_type": "code",
      "source": [
        "#TASK 2_3 Write a function which takes 3 integers as input and returns False if those integers can not\n",
        "#be sides of a triangle . Returns True if they can be sides of a triangle . It also returns area of\n",
        "#the triangle if its a right angle triangle .\n",
        "#if the sum of the squares of the two smaller sides equals the length of the square of the longest side.\n",
        "def train(a,b,c):\n",
        "  if(((a+b)>c) and ((b+c)>a) and ((a+c)>b)):\n",
        "    print(\"Integers can be sides of triangle\")\n",
        "  else:\n",
        "    print('Given Integers cannot be sides of traingle')\n",
        "  lst=[a,b,c]\n",
        "  lst.sort()\n",
        "  if ((lst[0]**2+lst[1]**2)==lst[2]**2):\n",
        "    print('Traingle is right angled traingle')\n",
        "  else:\n",
        "    print('Traingle is noit right angle traingle')\n",
        "  area=0\n",
        "  area=1/2*lst[0]*lst[1]\n",
        "  print('Area of right angle traingle is: ',area)\n",
        "\n",
        "\n",
        "a=int(input('First side of traingle: '))\n",
        "b=int(input('Second side of traingle: '))\n",
        "c=int(input('Third side of traingle: '))\n",
        "train(a,b,c)"
      ],
      "metadata": {
        "colab": {
          "base_uri": "https://localhost:8080/"
        },
        "id": "2r3UqBaxG97Y",
        "outputId": "af584195-2a6c-4441-a3f6-e374df6c510b"
      },
      "execution_count": null,
      "outputs": [
        {
          "output_type": "stream",
          "name": "stdout",
          "text": [
            "First side of traingle: 3\n",
            "Second side of traingle: 4\n",
            "Third side of traingle: 5\n",
            "Integers can be sides of triangle\n",
            "Traingle is right angled traingle\n",
            "Area of right angle traingle is:  6.0\n"
          ]
        }
      ]
    },
    {
      "cell_type": "code",
      "source": [
        "# TASK 2_4 Imagine a circle and two squares: a smaller and a bigger one. For the smaller one, the circle is\n",
        "#a circumcircle and for the bigger one, an incircle.\n",
        "import math\n",
        "def squa (rad):\n",
        "  d=2*rad\n",
        "  A1=0\n",
        "  A2=0\n",
        "  x= d/math.sqrt (2)\n",
        "  A2=x**2\n",
        "  A1=2*x*x\n",
        "  print('difference of the areas of the two squares.\\n',round(A1-A2,2))\n",
        "\n",
        "\n",
        "rad=int(input('Enter Radius of circle\\n'))\n",
        "squa(rad)\n"
      ],
      "metadata": {
        "colab": {
          "base_uri": "https://localhost:8080/"
        },
        "id": "zhXefQdGmlt6",
        "outputId": "02686292-e58c-4daf-ee04-e0992a4823e5"
      },
      "execution_count": null,
      "outputs": [
        {
          "output_type": "stream",
          "name": "stdout",
          "text": [
            "Enter Radius of circle\n",
            "4\n",
            "difference of the areas of the two squares.\n",
            " 32.0\n"
          ]
        }
      ]
    },
    {
      "cell_type": "code",
      "source": [
        "#TASK 2_7 Write a function which takes input an english sentence of any length , and a set containing\n",
        "#some stop words. Function then removes all stop words from the sentence and returns a\n",
        "#dictionary where keys are all unique words in the sentence and values are their count in the sentence\n",
        "\n",
        "def stp(str1,stp1):\n",
        "  str1=str1.split()\n",
        "  count=[]\n",
        "  dict_op={}\n",
        "  for i in stp1:\n",
        "    for j in range(len(str1)-2):\n",
        "      if str1[j]==i:\n",
        "        str1.pop(j)  \n",
        "\n",
        "  for i in range(len(str1)):\n",
        "    cnt=0\n",
        "    for j in range(len(str1)):\n",
        "        if str1[i]==str1[j]:\n",
        "          cnt+=1\n",
        "    count.append(cnt)\n",
        "  for i in range(len(str1)):\n",
        "    dict_op[str1[i]]=count[i]\n",
        "  print(dict_op)\n",
        "\n",
        "  \n",
        "str1=input('Enter input sentence:\\n')\n",
        "stp1= {'we','or','all','shall'}\n",
        "stp(str1,stp1)"
      ],
      "metadata": {
        "colab": {
          "base_uri": "https://localhost:8080/"
        },
        "id": "hlRJEbATrCtv",
        "outputId": "55f4176a-a7bc-4acc-818e-d9127cc243cf"
      },
      "execution_count": null,
      "outputs": [
        {
          "output_type": "stream",
          "name": "stdout",
          "text": [
            "Enter input sentence:\n",
            "should we transfer our bag or do not shall go to school all students\n",
            "{'should': 1, 'transfer': 1, 'our': 1, 'bag': 1, 'do': 1, 'not': 1, 'go': 1, 'to': 1, 'school': 1, 'all': 1, 'students': 1}\n"
          ]
        }
      ]
    },
    {
      "cell_type": "code",
      "source": [
        ""
      ],
      "metadata": {
        "id": "n_vUuE-4vChw"
      },
      "execution_count": null,
      "outputs": []
    }
  ]
}