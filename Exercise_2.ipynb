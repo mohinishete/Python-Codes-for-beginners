{
  "nbformat": 4,
  "nbformat_minor": 0,
  "metadata": {
    "colab": {
      "name": "Exercise 2.ipynb",
      "provenance": []
    },
    "kernelspec": {
      "name": "python3",
      "display_name": "Python 3"
    },
    "language_info": {
      "name": "python"
    }
  },
  "cells": [
    {
      "cell_type": "code",
      "execution_count": null,
      "metadata": {
        "colab": {
          "base_uri": "https://localhost:8080/"
        },
        "id": "smM99IyVw6Xz",
        "outputId": "f47fe59c-0338-4309-f8b2-71ac70a2d217"
      },
      "outputs": [
        {
          "output_type": "stream",
          "name": "stdout",
          "text": [
            "original dictionay is:   {'a': 'e', 'b': '$', 'c': 'q', 'd': 'p', 'j': 'n'}\n",
            " Enter any string  abcdgft\n",
            "String after swapping is :   e$qpgft\n"
          ]
        }
      ],
      "source": [
        "#Write a program which takes input any string and then replaces all the letters which are keys in\n",
        "#the above dictionary with their corresponding values in the dictionary.\n",
        "\n",
        "old_dict= {'a':'e','b':'$','c':'q','d':'p','j':'n'}\n",
        "print( 'original dictionay is:  ',old_dict)\n",
        "\n",
        "data=input(' Enter any string  ')\n",
        "d=list((char for char in data))\n",
        "key1=list(old_dict.keys())\n",
        "value1=list(old_dict.values())\n",
        "\n",
        "\n",
        "for i in range(len(d)):\n",
        "  for j in range(len(key1)):\n",
        "    if d[i]==key1[j]:\n",
        "      d.pop(i)\n",
        "      d.insert(i,value1[j])\n",
        "      break\n",
        "      \n",
        "print (\"String after swapping is :  \", ''.join(d))\n"
      ]
    }
  ]
}