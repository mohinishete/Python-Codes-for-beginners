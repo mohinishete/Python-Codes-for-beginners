{
  "nbformat": 4,
  "nbformat_minor": 0,
  "metadata": {
    "colab": {
      "name": "Excersice 5.ipynb",
      "provenance": []
    },
    "kernelspec": {
      "name": "python3",
      "display_name": "Python 3"
    },
    "language_info": {
      "name": "python"
    }
  },
  "cells": [
    {
      "cell_type": "code",
      "execution_count": null,
      "metadata": {
        "id": "hzFEYORAzaST"
      },
      "outputs": [],
      "source": [
        "\"\"\"\n",
        "Use dictionary comprehension to create a dictionary with keys : t1,t2,t3.......t100\n",
        "which takes random integers from the range [1,100] as their corresponding values. Write a\n",
        "function which takes this dictionary as input and returns number of unique values from all\n",
        "key:value pairs in that dictionary \n",
        "\"\"\""
      ]
    },
    {
      "cell_type": "code",
      "source": [
        "import pandas as pd\n",
        "import random\n",
        "\n",
        "keys=[]\n",
        "for i in range(1,101):\n",
        "  keys.append(\"t\"+str(i))\n",
        "values=[]\n",
        "for i in range(1,101):\n",
        "  values.append(random.randint(1,100))\n",
        "dict1={}\n",
        "for i in range(100):\n",
        "  dict1[keys[i]]=values[i]\n",
        "l=[(dict1)]\n",
        "u_val=set(val for dic in l for val in dic.values())\n",
        "print(len(u_val))\n",
        "\n"
      ],
      "metadata": {
        "colab": {
          "base_uri": "https://localhost:8080/"
        },
        "id": "0bEwQ1BkzgeU",
        "outputId": "97c338ce-a665-4a92-d8da-7da6cb5265d4"
      },
      "execution_count": null,
      "outputs": [
        {
          "output_type": "stream",
          "name": "stdout",
          "text": [
            "58\n"
          ]
        }
      ]
    }
  ]
}