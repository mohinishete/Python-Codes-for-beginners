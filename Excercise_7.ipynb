{
  "nbformat": 4,
  "nbformat_minor": 0,
  "metadata": {
    "colab": {
      "name": "Excercise 7.ipynb",
      "provenance": []
    },
    "kernelspec": {
      "name": "python3",
      "display_name": "Python 3"
    },
    "language_info": {
      "name": "python"
    }
  },
  "cells": [
    {
      "cell_type": "code",
      "execution_count": null,
      "metadata": {
        "id": "WRLF5XuBIkuS"
      },
      "outputs": [],
      "source": [
        "#A number is said to be Harshad if it's exactly divisible by the sum of its digits. Create a\n",
        "#function that determines whether a number is a Harshad or not. Input to the function will be\n",
        "#an integer."
      ]
    },
    {
      "cell_type": "code",
      "source": [
        "def har (n):\n",
        "    lst=[int(d) for d in str(n)]\n",
        "\n",
        "    res=0\n",
        "    for i in lst:\n",
        "      res=res+i\n",
        "    print(res)\n",
        "    if (n%res==0):\n",
        "      return(print('Number is HARSHAD'))\n",
        "    else:\n",
        "      return(print('Number is not HARSHAD'))\n",
        "har(12)"
      ],
      "metadata": {
        "colab": {
          "base_uri": "https://localhost:8080/"
        },
        "id": "ipsRg8OOKzXt",
        "outputId": "dcfa0f65-4e30-4c8a-8fb4-b40d491aa15a"
      },
      "execution_count": null,
      "outputs": [
        {
          "output_type": "stream",
          "name": "stdout",
          "text": [
            "3\n",
            "Number is HARSHAD\n"
          ]
        }
      ]
    }
  ]
}