{
  "nbformat": 4,
  "nbformat_minor": 0,
  "metadata": {
    "colab": {
      "name": "Exercise 1.ipynb",
      "provenance": []
    },
    "kernelspec": {
      "name": "python3",
      "display_name": "Python 3"
    },
    "language_info": {
      "name": "python"
    }
  },
  "cells": [
    {
      "cell_type": "code",
      "execution_count": null,
      "metadata": {
        "colab": {
          "base_uri": "https://localhost:8080/"
        },
        "id": "9OCWLzVtn9Ue",
        "outputId": "20432e9f-f5ab-44a9-82cd-b573083f7cf7"
      },
      "outputs": [
        {
          "output_type": "stream",
          "name": "stdout",
          "text": [
            "[77, 70, 17, 47, 24, 11, 88, 15, 16, 93, 31, 17, 21, 14, 24, 54, 50, 26, 33, 48, 62, 33, 28, 61, 14, 32, 70, 89, 98, 78, 48, 23, 29, 55, 67, 21, 49, 75, 71, 61, 79, 14, 32, 38, 33, 92, 64, 43, 67, 100]\n",
            "New list after removing numbers divisible by 3 [77, 70, 17, 47, 11, 88, 16, 31, 17, 14, 54, 50, 26, 48, 62, 28, 61, 14, 32, 70, 89, 98, 48, 23, 29, 55, 67, 49, 71, 61, 79, 14, 32, 38, 92, 64, 43, 67, 100]\n",
            "New list after subracting 1 from all numbers [76, 69, 16, 46, 10, 87, 15, 30, 16, 13, 53, 49, 25, 47, 61, 27, 60, 13, 31, 69, 88, 97, 47, 22, 28, 54, 66, 48, 70, 60, 78, 13, 31, 37, 91, 63, 42, 66, 99]\n",
            "New list after removing all numbers divisible by 5:  [76, 69, 16, 46, 87, 30, 16, 13, 53, 49, 47, 61, 27, 13, 31, 69, 88, 97, 47, 22, 28, 54, 66, 48, 60, 78, 13, 31, 37, 91, 63, 42, 66, 99]\n"
          ]
        }
      ],
      "source": [
        "#Generate a list containing 50 random integers between 10 to 100. Write a program which\n",
        "#removes all the values which are divisible by 3 from the list . Then it subtracts 1 from all the\n",
        "#remaining values and then removes all the values divisible by 5 from the list .\n",
        "import numpy as np\n",
        "import random\n",
        "my_list=[]\n",
        "for i in range(1,51):\n",
        "  x=random.randint(10,101)\n",
        "  my_list.append(x)\n",
        "print(my_list)\n",
        "for ele in my_list:\n",
        "    if ele % 3 == 0:\n",
        "        my_list.remove(ele)\n",
        " \n",
        "# printing modified list\n",
        "print(\"New list after removing numbers divisible by 3\", my_list)\n",
        "\n",
        "#subtarct 1 from all elements\n",
        "my_list=[x-1 for x in my_list]\n",
        "print(\"New list after subracting 1 from all numbers\", my_list)\n",
        "\n",
        "for ele in my_list:\n",
        "    if ele % 5 == 0:\n",
        "        my_list.remove(ele)\n",
        "\n",
        "# printing modified list\n",
        "print(\"New list after removing all numbers divisible by 5: \", my_list)\n",
        "\n",
        "\n"
      ]
    }
  ]
}